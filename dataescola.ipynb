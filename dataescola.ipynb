{
 "cells": [
  {
   "cell_type": "code",
   "execution_count": 41,
   "metadata": {},
   "outputs": [],
   "source": [
    "import pandas as pd\n",
    "\n",
    "escolas = pd.read_csv('https://drive.google.com/uc?id=1Jgto7psHaMRTAVzcFt7D6SgJiHMB7uGT')\n",
    "estudantes = pd.read_csv('https://drive.google.com/uc?id=15aOJIGAyLMSY1gecjiCgu2ko_riIcKQy')\n",
    "\n"
   ]
  },
  {
   "cell_type": "code",
   "execution_count": 4,
   "metadata": {},
   "outputs": [
    {
     "data": {
      "text/html": [
       "<div>\n",
       "<style scoped>\n",
       "    .dataframe tbody tr th:only-of-type {\n",
       "        vertical-align: middle;\n",
       "    }\n",
       "\n",
       "    .dataframe tbody tr th {\n",
       "        vertical-align: top;\n",
       "    }\n",
       "\n",
       "    .dataframe thead th {\n",
       "        text-align: right;\n",
       "    }\n",
       "</style>\n",
       "<table border=\"1\" class=\"dataframe\">\n",
       "  <thead>\n",
       "    <tr style=\"text-align: right;\">\n",
       "      <th></th>\n",
       "      <th>ID_Escola</th>\n",
       "      <th>Numero_Alunos</th>\n",
       "      <th>Orcamento_Anual</th>\n",
       "    </tr>\n",
       "  </thead>\n",
       "  <tbody>\n",
       "    <tr>\n",
       "      <th>count</th>\n",
       "      <td>15.000000</td>\n",
       "      <td>15.000000</td>\n",
       "      <td>1.500000e+01</td>\n",
       "    </tr>\n",
       "    <tr>\n",
       "      <th>mean</th>\n",
       "      <td>7.000000</td>\n",
       "      <td>2611.333333</td>\n",
       "      <td>1.643295e+06</td>\n",
       "    </tr>\n",
       "    <tr>\n",
       "      <th>std</th>\n",
       "      <td>4.472136</td>\n",
       "      <td>1420.915282</td>\n",
       "      <td>9.347763e+05</td>\n",
       "    </tr>\n",
       "    <tr>\n",
       "      <th>min</th>\n",
       "      <td>0.000000</td>\n",
       "      <td>427.000000</td>\n",
       "      <td>2.480870e+05</td>\n",
       "    </tr>\n",
       "    <tr>\n",
       "      <th>25%</th>\n",
       "      <td>3.500000</td>\n",
       "      <td>1698.000000</td>\n",
       "      <td>1.046265e+06</td>\n",
       "    </tr>\n",
       "    <tr>\n",
       "      <th>50%</th>\n",
       "      <td>7.000000</td>\n",
       "      <td>2283.000000</td>\n",
       "      <td>1.319574e+06</td>\n",
       "    </tr>\n",
       "    <tr>\n",
       "      <th>75%</th>\n",
       "      <td>10.500000</td>\n",
       "      <td>3474.000000</td>\n",
       "      <td>2.228999e+06</td>\n",
       "    </tr>\n",
       "    <tr>\n",
       "      <th>max</th>\n",
       "      <td>14.000000</td>\n",
       "      <td>4976.000000</td>\n",
       "      <td>3.124928e+06</td>\n",
       "    </tr>\n",
       "  </tbody>\n",
       "</table>\n",
       "</div>"
      ],
      "text/plain": [
       "       ID_Escola  Numero_Alunos  Orcamento_Anual\n",
       "count  15.000000      15.000000     1.500000e+01\n",
       "mean    7.000000    2611.333333     1.643295e+06\n",
       "std     4.472136    1420.915282     9.347763e+05\n",
       "min     0.000000     427.000000     2.480870e+05\n",
       "25%     3.500000    1698.000000     1.046265e+06\n",
       "50%     7.000000    2283.000000     1.319574e+06\n",
       "75%    10.500000    3474.000000     2.228999e+06\n",
       "max    14.000000    4976.000000     3.124928e+06"
      ]
     },
     "execution_count": 4,
     "metadata": {},
     "output_type": "execute_result"
    }
   ],
   "source": [
    "escolas.describe()"
   ]
  },
  {
   "cell_type": "code",
   "execution_count": 23,
   "metadata": {},
   "outputs": [
    {
     "data": {
      "text/html": [
       "<div>\n",
       "<style scoped>\n",
       "    .dataframe tbody tr th:only-of-type {\n",
       "        vertical-align: middle;\n",
       "    }\n",
       "\n",
       "    .dataframe tbody tr th {\n",
       "        vertical-align: top;\n",
       "    }\n",
       "\n",
       "    .dataframe thead th {\n",
       "        text-align: right;\n",
       "    }\n",
       "</style>\n",
       "<table border=\"1\" class=\"dataframe\">\n",
       "  <thead>\n",
       "    <tr style=\"text-align: right;\">\n",
       "      <th></th>\n",
       "      <th>ID_Estudante</th>\n",
       "      <th>Serie</th>\n",
       "      <th>Nota_Redacao</th>\n",
       "      <th>Nota_Matematica</th>\n",
       "    </tr>\n",
       "  </thead>\n",
       "  <tbody>\n",
       "    <tr>\n",
       "      <th>count</th>\n",
       "      <td>39160.000000</td>\n",
       "      <td>39160.000000</td>\n",
       "      <td>39160.000000</td>\n",
       "      <td>39160.000000</td>\n",
       "    </tr>\n",
       "    <tr>\n",
       "      <th>mean</th>\n",
       "      <td>19579.500000</td>\n",
       "      <td>7.359551</td>\n",
       "      <td>81.875741</td>\n",
       "      <td>78.984934</td>\n",
       "    </tr>\n",
       "    <tr>\n",
       "      <th>std</th>\n",
       "      <td>11304.662607</td>\n",
       "      <td>1.102796</td>\n",
       "      <td>10.238839</td>\n",
       "      <td>12.311055</td>\n",
       "    </tr>\n",
       "    <tr>\n",
       "      <th>min</th>\n",
       "      <td>0.000000</td>\n",
       "      <td>6.000000</td>\n",
       "      <td>63.000000</td>\n",
       "      <td>55.000000</td>\n",
       "    </tr>\n",
       "    <tr>\n",
       "      <th>25%</th>\n",
       "      <td>9789.750000</td>\n",
       "      <td>6.000000</td>\n",
       "      <td>73.000000</td>\n",
       "      <td>69.000000</td>\n",
       "    </tr>\n",
       "    <tr>\n",
       "      <th>50%</th>\n",
       "      <td>19579.500000</td>\n",
       "      <td>7.000000</td>\n",
       "      <td>82.000000</td>\n",
       "      <td>79.000000</td>\n",
       "    </tr>\n",
       "    <tr>\n",
       "      <th>75%</th>\n",
       "      <td>29369.250000</td>\n",
       "      <td>8.000000</td>\n",
       "      <td>91.000000</td>\n",
       "      <td>89.000000</td>\n",
       "    </tr>\n",
       "    <tr>\n",
       "      <th>max</th>\n",
       "      <td>39159.000000</td>\n",
       "      <td>9.000000</td>\n",
       "      <td>99.000000</td>\n",
       "      <td>99.000000</td>\n",
       "    </tr>\n",
       "  </tbody>\n",
       "</table>\n",
       "</div>"
      ],
      "text/plain": [
       "       ID_Estudante         Serie  Nota_Redacao  Nota_Matematica\n",
       "count  39160.000000  39160.000000  39160.000000     39160.000000\n",
       "mean   19579.500000      7.359551     81.875741        78.984934\n",
       "std    11304.662607      1.102796     10.238839        12.311055\n",
       "min        0.000000      6.000000     63.000000        55.000000\n",
       "25%     9789.750000      6.000000     73.000000        69.000000\n",
       "50%    19579.500000      7.000000     82.000000        79.000000\n",
       "75%    29369.250000      8.000000     91.000000        89.000000\n",
       "max    39159.000000      9.000000     99.000000        99.000000"
      ]
     },
     "execution_count": 23,
     "metadata": {},
     "output_type": "execute_result"
    }
   ],
   "source": [
    "estudantes.describe()"
   ]
  },
  {
   "cell_type": "code",
   "execution_count": 7,
   "metadata": {},
   "outputs": [],
   "source": [
    "orcamento_total = escolas[('Orcamento_Anual')].sum()"
   ]
  },
  {
   "cell_type": "code",
   "execution_count": 8,
   "metadata": {},
   "outputs": [
    {
     "data": {
      "text/plain": [
       "np.int64(24649428)"
      ]
     },
     "execution_count": 8,
     "metadata": {},
     "output_type": "execute_result"
    }
   ],
   "source": [
    "orcamento_total"
   ]
  },
  {
   "cell_type": "code",
   "execution_count": 9,
   "metadata": {},
   "outputs": [],
   "source": [
    "dados = escolas[('Orcamento_Anual')] / escolas[('Numero_Alunos')] \n",
    "\n",
    "df = pd.DataFrame(dados)\n",
    "\n",
    "df['Percapita'] = dados"
   ]
  },
  {
   "cell_type": "code",
   "execution_count": 11,
   "metadata": {},
   "outputs": [
    {
     "name": "stdout",
     "output_type": "stream",
     "text": [
      "<bound method DataFrame.idxmax of         0  Percapita\n",
      "0   655.0      655.0\n",
      "1   639.0      639.0\n",
      "2   600.0      600.0\n",
      "3   652.0      652.0\n",
      "4   625.0      625.0\n",
      "5   578.0      578.0\n",
      "6   582.0      582.0\n",
      "7   628.0      628.0\n",
      "8   581.0      581.0\n",
      "9   609.0      609.0\n",
      "10  583.0      583.0\n",
      "11  637.0      637.0\n",
      "12  650.0      650.0\n",
      "13  644.0      644.0\n",
      "14  638.0      638.0>\n",
      "<bound method DataFrame.idxmin of         0  Percapita\n",
      "0   655.0      655.0\n",
      "1   639.0      639.0\n",
      "2   600.0      600.0\n",
      "3   652.0      652.0\n",
      "4   625.0      625.0\n",
      "5   578.0      578.0\n",
      "6   582.0      582.0\n",
      "7   628.0      628.0\n",
      "8   581.0      581.0\n",
      "9   609.0      609.0\n",
      "10  583.0      583.0\n",
      "11  637.0      637.0\n",
      "12  650.0      650.0\n",
      "13  644.0      644.0\n",
      "14  638.0      638.0>\n"
     ]
    }
   ],
   "source": [
    "print(df.idxmax)\n",
    "print(df.idxmin)"
   ]
  },
  {
   "cell_type": "code",
   "execution_count": 42,
   "metadata": {},
   "outputs": [
    {
     "name": "stdout",
     "output_type": "stream",
     "text": [
      "Tipo_Escola\n",
      "Particular    1524.250000\n",
      "Publica       3853.714286\n",
      "Name: Numero_Alunos, dtype: float64\n"
     ]
    }
   ],
   "source": [
    "\n",
    "\n",
    "media_alunos = escolas.groupby('Tipo_Escola')['Numero_Alunos'].mean()\n",
    "\n",
    "print(media_alunos)\n"
   ]
  },
  {
   "cell_type": "code",
   "execution_count": 43,
   "metadata": {},
   "outputs": [
    {
     "data": {
      "text/plain": [
       "count      5\n",
       "unique     5\n",
       "top       47\n",
       "freq       1\n",
       "dtype: int64"
      ]
     },
     "execution_count": 43,
     "metadata": {},
     "output_type": "execute_result"
    }
   ],
   "source": [
    "orcamento_anual = escolas['Orcamento_Anual']\n",
    "escolas_milhao = escolas[orcamento_anual > 1500000]\n",
    "escolas_milhao.sum().describe()"
   ]
  }
 ],
 "metadata": {
  "kernelspec": {
   "display_name": ".venv",
   "language": "python",
   "name": "python3"
  },
  "language_info": {
   "codemirror_mode": {
    "name": "ipython",
    "version": 3
   },
   "file_extension": ".py",
   "mimetype": "text/x-python",
   "name": "python",
   "nbconvert_exporter": "python",
   "pygments_lexer": "ipython3",
   "version": "3.12.5"
  }
 },
 "nbformat": 4,
 "nbformat_minor": 2
}
